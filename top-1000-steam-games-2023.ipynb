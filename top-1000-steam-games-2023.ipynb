{
 "cells": [
  {
   "cell_type": "code",
   "execution_count": 1,
   "id": "b68d99d6",
   "metadata": {
    "_cell_guid": "b1076dfc-b9ad-4769-8c92-a6c4dae69d19",
    "_uuid": "8f2839f25d086af736a60e9eeb907d3b93b6e0e5",
    "execution": {
     "iopub.execute_input": "2023-07-29T21:57:37.468130Z",
     "iopub.status.busy": "2023-07-29T21:57:37.467433Z",
     "iopub.status.idle": "2023-07-29T21:57:37.493211Z",
     "shell.execute_reply": "2023-07-29T21:57:37.491413Z"
    },
    "papermill": {
     "duration": 0.038538,
     "end_time": "2023-07-29T21:57:37.495696",
     "exception": false,
     "start_time": "2023-07-29T21:57:37.457158",
     "status": "completed"
    },
    "tags": []
   },
   "outputs": [
    {
     "name": "stdout",
     "output_type": "stream",
     "text": [
      "/kaggle/input/top-1000-steam-games/steamspy_data.csv\n",
      "/kaggle/input/top-1000-steam-games/steam_app_data.csv\n"
     ]
    }
   ],
   "source": [
    "# This Python 3 environment comes with many helpful analytics libraries installed\n",
    "# It is defined by the kaggle/python Docker image: https://github.com/kaggle/docker-python\n",
    "# For example, here's several helpful packages to load\n",
    "\n",
    "import numpy as np # linear algebra\n",
    "import pandas as pd # data processing, CSV file I/O (e.g. pd.read_csv)\n",
    "\n",
    "# Input data files are available in the read-only \"../input/\" directory\n",
    "# For example, running this (by clicking run or pressing Shift+Enter) will list all files under the input directory\n",
    "\n",
    "import os\n",
    "for dirname, _, filenames in os.walk('/kaggle/input'):\n",
    "    for filename in filenames:\n",
    "        print(os.path.join(dirname, filename))\n",
    "\n",
    "# You can write up to 20GB to the current directory (/kaggle/working/) that gets preserved as output when you create a version using \"Save & Run All\" \n",
    "# You can also write temporary files to /kaggle/temp/, but they won't be saved outside of the current session"
   ]
  },
  {
   "cell_type": "code",
   "execution_count": 2,
   "id": "57cdc109",
   "metadata": {
    "execution": {
     "iopub.execute_input": "2023-07-29T21:57:37.513457Z",
     "iopub.status.busy": "2023-07-29T21:57:37.512397Z",
     "iopub.status.idle": "2023-07-29T21:57:38.034306Z",
     "shell.execute_reply": "2023-07-29T21:57:38.032928Z"
    },
    "papermill": {
     "duration": 0.533916,
     "end_time": "2023-07-29T21:57:38.037227",
     "exception": false,
     "start_time": "2023-07-29T21:57:37.503311",
     "status": "completed"
    },
    "tags": []
   },
   "outputs": [
    {
     "data": {
      "text/plain": [
       "(   appid                       name         developer publisher  score_rank  \\\n",
       " 0     10             Counter-Strike             Valve     Valve         NaN   \n",
       " 1     20      Team Fortress Classic             Valve     Valve         NaN   \n",
       " 2     30              Day of Defeat             Valve     Valve         NaN   \n",
       " 3     40         Deathmatch Classic             Valve     Valve         NaN   \n",
       " 4     50  Half-Life: Opposing Force  Gearbox Software     Valve         NaN   \n",
       " \n",
       "    positive  negative  userscore                    owners  average_forever  \\\n",
       " 0    216345      5530          0  10,000,000 .. 20,000,000                0   \n",
       " 1      6472       990          0   5,000,000 .. 10,000,000                0   \n",
       " 2      5686       634          0   5,000,000 .. 10,000,000                0   \n",
       " 3      2242       490          0   5,000,000 .. 10,000,000                0   \n",
       " 4     17468       890          0    2,000,000 .. 5,000,000                0   \n",
       " \n",
       "    average_2weeks  median_forever  median_2weeks  price  initialprice  \\\n",
       " 0               0               0              0    999           999   \n",
       " 1               0               0              0    499           499   \n",
       " 2               0               0              0    499           499   \n",
       " 3               0               0              0    499           499   \n",
       " 4               0               0              0    499           499   \n",
       " \n",
       "    discount                                          languages   genre    ccu  \\\n",
       " 0         0  English, French, German, Italian, Spanish - Sp...  Action  10775   \n",
       " 1         0  English, French, German, Italian, Spanish - Sp...  Action     77   \n",
       " 2         0  English, French, German, Italian, Spanish - Spain  Action     89   \n",
       " 3         0  English, French, German, Italian, Spanish - Sp...  Action      8   \n",
       " 4         0                    English, French, German, Korean  Action    162   \n",
       " \n",
       "                                                 tags  \n",
       " 0  {'Action': 5448, 'FPS': 4862, 'Multiplayer': 3...  \n",
       " 1  {'Action': 759, 'FPS': 320, 'Multiplayer': 272...  \n",
       " 2  {'FPS': 794, 'World War II': 261, 'Multiplayer...  \n",
       " 3  {'Action': 633, 'FPS': 147, 'Classic': 113, 'M...  \n",
       " 4  {'FPS': 905, 'Action': 343, 'Classic': 271, 'S...  ,\n",
       "    type                       name  steam_appid  required_age is_free  \\\n",
       " 0  game             Counter-Strike           10           0.0   False   \n",
       " 1  game      Team Fortress Classic           20           0.0   False   \n",
       " 2  game              Day of Defeat           30           0.0   False   \n",
       " 3  game         Deathmatch Classic           40           0.0   False   \n",
       " 4  game  Half-Life: Opposing Force           50           0.0   False   \n",
       " \n",
       "   controller_support  dlc                               detailed_description  \\\n",
       " 0                NaN  NaN  Play the world's number 1 online action game. ...   \n",
       " 1                NaN  NaN  One of the most popular online action games of...   \n",
       " 2                NaN  NaN  Enlist in an intense brand of Axis vs. Allied ...   \n",
       " 3                NaN  NaN  Enjoy fast-paced multiplayer gaming with Death...   \n",
       " 4                NaN  NaN  Return to the Black Mesa Research Facility as ...   \n",
       " \n",
       "                                       about_the_game  \\\n",
       " 0  Play the world's number 1 online action game. ...   \n",
       " 1  One of the most popular online action games of...   \n",
       " 2  Enlist in an intense brand of Axis vs. Allied ...   \n",
       " 3  Enjoy fast-paced multiplayer gaming with Death...   \n",
       " 4  Return to the Black Mesa Research Facility as ...   \n",
       " \n",
       "                                    short_description  ...  \\\n",
       " 0  Play the world's number 1 online action game. ...  ...   \n",
       " 1  One of the most popular online action games of...  ...   \n",
       " 2  Enlist in an intense brand of Axis vs. Allied ...  ...   \n",
       " 3  Enjoy fast-paced multiplayer gaming with Death...  ...   \n",
       " 4  Return to the Black Mesa Research Facility as ...  ...   \n",
       " \n",
       "                                           categories  \\\n",
       " 0  [{'id': 1, 'description': 'Multi-player'}, {'i...   \n",
       " 1  [{'id': 1, 'description': 'Multi-player'}, {'i...   \n",
       " 2  [{'id': 1, 'description': 'Multi-player'}, {'i...   \n",
       " 3  [{'id': 1, 'description': 'Multi-player'}, {'i...   \n",
       " 4  [{'id': 2, 'description': 'Single-player'}, {'...   \n",
       " \n",
       "                                    genres  \\\n",
       " 0  [{'id': '1', 'description': 'Action'}]   \n",
       " 1  [{'id': '1', 'description': 'Action'}]   \n",
       " 2  [{'id': '1', 'description': 'Action'}]   \n",
       " 3  [{'id': '1', 'description': 'Action'}]   \n",
       " 4  [{'id': '1', 'description': 'Action'}]   \n",
       " \n",
       "                                          screenshots movies  \\\n",
       " 0  [{'id': 0, 'path_thumbnail': 'https://cdn.akam...    NaN   \n",
       " 1  [{'id': 0, 'path_thumbnail': 'https://cdn.akam...    NaN   \n",
       " 2  [{'id': 0, 'path_thumbnail': 'https://cdn.akam...    NaN   \n",
       " 3  [{'id': 0, 'path_thumbnail': 'https://cdn.akam...    NaN   \n",
       " 4  [{'id': 0, 'path_thumbnail': 'https://cdn.akam...    NaN   \n",
       " \n",
       "      recommendations achievements  \\\n",
       " 0  {'total': 137378}          NaN   \n",
       " 1    {'total': 5474}          NaN   \n",
       " 2    {'total': 3694}          NaN   \n",
       " 3    {'total': 1924}          NaN   \n",
       " 4   {'total': 15478}          NaN   \n",
       " \n",
       "                                     release_date  \\\n",
       " 0  {'coming_soon': False, 'date': '1 Nov, 2000'}   \n",
       " 1  {'coming_soon': False, 'date': '1 Apr, 1999'}   \n",
       " 2  {'coming_soon': False, 'date': '1 May, 2003'}   \n",
       " 3  {'coming_soon': False, 'date': '1 Jun, 2001'}   \n",
       " 4  {'coming_soon': False, 'date': '1 Nov, 1999'}   \n",
       " \n",
       "                                         support_info  \\\n",
       " 0  {'url': 'http://steamcommunity.com/app/10', 'e...   \n",
       " 1                           {'url': '', 'email': ''}   \n",
       " 2                           {'url': '', 'email': ''}   \n",
       " 3                           {'url': '', 'email': ''}   \n",
       " 4  {'url': 'https://help.steampowered.com', 'emai...   \n",
       " \n",
       "                                           background  \\\n",
       " 0  https://cdn.akamai.steamstatic.com/steam/apps/...   \n",
       " 1  https://cdn.akamai.steamstatic.com/steam/apps/...   \n",
       " 2  https://cdn.akamai.steamstatic.com/steam/apps/...   \n",
       " 3  https://cdn.akamai.steamstatic.com/steam/apps/...   \n",
       " 4  https://cdn.akamai.steamstatic.com/steam/apps/...   \n",
       " \n",
       "                                  content_descriptors  \n",
       " 0  {'ids': [2, 5], 'notes': 'Includes intense vio...  \n",
       " 1  {'ids': [2, 5], 'notes': 'Includes intense vio...  \n",
       " 2                         {'ids': [], 'notes': None}  \n",
       " 3                         {'ids': [], 'notes': None}  \n",
       " 4                         {'ids': [], 'notes': None}  \n",
       " \n",
       " [5 rows x 39 columns])"
      ]
     },
     "execution_count": 2,
     "metadata": {},
     "output_type": "execute_result"
    }
   ],
   "source": [
    "# Load the CSV files\n",
    "steamspy_data = pd.read_csv('/kaggle/input/top-1000-steam-games/steamspy_data.csv')\n",
    "steam_app_data = pd.read_csv('/kaggle/input/top-1000-steam-games/steam_app_data.csv')\n",
    "\n",
    "# Preview the data\n",
    "steamspy_data.head(), steam_app_data.head()\n"
   ]
  },
  {
   "cell_type": "code",
   "execution_count": 3,
   "id": "1d134c0e",
   "metadata": {
    "execution": {
     "iopub.execute_input": "2023-07-29T21:57:38.056690Z",
     "iopub.status.busy": "2023-07-29T21:57:38.055369Z",
     "iopub.status.idle": "2023-07-29T21:57:38.088244Z",
     "shell.execute_reply": "2023-07-29T21:57:38.086954Z"
    },
    "papermill": {
     "duration": 0.045532,
     "end_time": "2023-07-29T21:57:38.091090",
     "exception": false,
     "start_time": "2023-07-29T21:57:38.045558",
     "status": "completed"
    },
    "tags": []
   },
   "outputs": [
    {
     "data": {
      "text/plain": [
       "(appid                 0\n",
       " name                  0\n",
       " developer             1\n",
       " publisher             0\n",
       " score_rank         1000\n",
       " positive              0\n",
       " negative              0\n",
       " userscore             0\n",
       " owners                0\n",
       " average_forever       0\n",
       " average_2weeks        0\n",
       " median_forever        0\n",
       " median_2weeks         0\n",
       " price                 0\n",
       " initialprice          0\n",
       " discount              0\n",
       " languages             0\n",
       " genre                 3\n",
       " ccu                   0\n",
       " tags                  0\n",
       " dtype: int64,\n",
       " type                          6\n",
       " name                          0\n",
       " steam_appid                   0\n",
       " required_age                  6\n",
       " is_free                       6\n",
       " controller_support          593\n",
       " dlc                         443\n",
       " detailed_description          6\n",
       " about_the_game                6\n",
       " short_description             6\n",
       " fullgame                   1000\n",
       " supported_languages           6\n",
       " header_image                  6\n",
       " website                     126\n",
       " pc_requirements               6\n",
       " mac_requirements              6\n",
       " linux_requirements            6\n",
       " legal_notice                275\n",
       " drm_notice                  929\n",
       " ext_user_account_notice     889\n",
       " developers                    7\n",
       " publishers                    6\n",
       " demos                       892\n",
       " price_overview              279\n",
       " packages                    206\n",
       " package_groups                6\n",
       " platforms                     6\n",
       " metacritic                  414\n",
       " reviews                     628\n",
       " categories                    8\n",
       " genres                        8\n",
       " screenshots                   6\n",
       " movies                      139\n",
       " recommendations              82\n",
       " achievements                261\n",
       " release_date                  6\n",
       " support_info                  6\n",
       " background                    6\n",
       " content_descriptors           6\n",
       " dtype: int64)"
      ]
     },
     "execution_count": 3,
     "metadata": {},
     "output_type": "execute_result"
    }
   ],
   "source": [
    "# Check for missing values in both datasets\n",
    "missing_values_steamspy = steamspy_data.isnull().sum()\n",
    "missing_values_steam_app = steam_app_data.isnull().sum()\n",
    "\n",
    "missing_values_steamspy, missing_values_steam_app\n"
   ]
  },
  {
   "cell_type": "code",
   "execution_count": 4,
   "id": "9c8f6b95",
   "metadata": {
    "execution": {
     "iopub.execute_input": "2023-07-29T21:57:38.111104Z",
     "iopub.status.busy": "2023-07-29T21:57:38.110286Z",
     "iopub.status.idle": "2023-07-29T21:57:38.162259Z",
     "shell.execute_reply": "2023-07-29T21:57:38.160959Z"
    },
    "papermill": {
     "duration": 0.065366,
     "end_time": "2023-07-29T21:57:38.164909",
     "exception": false,
     "start_time": "2023-07-29T21:57:38.099543",
     "status": "completed"
    },
    "tags": []
   },
   "outputs": [
    {
     "data": {
      "text/plain": [
       "(0, 1)"
      ]
     },
     "execution_count": 4,
     "metadata": {},
     "output_type": "execute_result"
    }
   ],
   "source": [
    "# Check for duplicates\n",
    "duplicates_steamspy = steamspy_data.duplicated().sum()\n",
    "duplicates_steam_app = steam_app_data.duplicated().sum()\n",
    "\n",
    "duplicates_steamspy, duplicates_steam_app\n"
   ]
  },
  {
   "cell_type": "code",
   "execution_count": 5,
   "id": "efe53624",
   "metadata": {
    "execution": {
     "iopub.execute_input": "2023-07-29T21:57:38.184107Z",
     "iopub.status.busy": "2023-07-29T21:57:38.183688Z",
     "iopub.status.idle": "2023-07-29T21:57:38.222889Z",
     "shell.execute_reply": "2023-07-29T21:57:38.221491Z"
    },
    "papermill": {
     "duration": 0.052333,
     "end_time": "2023-07-29T21:57:38.225788",
     "exception": false,
     "start_time": "2023-07-29T21:57:38.173455",
     "status": "completed"
    },
    "tags": []
   },
   "outputs": [
    {
     "data": {
      "text/plain": [
       "0"
      ]
     },
     "execution_count": 5,
     "metadata": {},
     "output_type": "execute_result"
    }
   ],
   "source": [
    "# Remove duplicates from the steam_app_data dataset\n",
    "steam_app_data = steam_app_data.drop_duplicates()\n",
    "\n",
    "# Check again for duplicates to confirm\n",
    "duplicates_steam_app = steam_app_data.duplicated().sum()\n",
    "duplicates_steam_app\n"
   ]
  },
  {
   "cell_type": "code",
   "execution_count": 6,
   "id": "ca1f82a3",
   "metadata": {
    "execution": {
     "iopub.execute_input": "2023-07-29T21:57:38.245523Z",
     "iopub.status.busy": "2023-07-29T21:57:38.245112Z",
     "iopub.status.idle": "2023-07-29T21:57:38.290250Z",
     "shell.execute_reply": "2023-07-29T21:57:38.288839Z"
    },
    "papermill": {
     "duration": 0.058498,
     "end_time": "2023-07-29T21:57:38.293063",
     "exception": false,
     "start_time": "2023-07-29T21:57:38.234565",
     "status": "completed"
    },
    "tags": []
   },
   "outputs": [
    {
     "data": {
      "text/plain": [
       "type                         0\n",
       "name                         0\n",
       "steam_appid                  0\n",
       "required_age                 6\n",
       "is_free                      6\n",
       "controller_support           0\n",
       "dlc                          0\n",
       "detailed_description         6\n",
       "about_the_game               6\n",
       "short_description            6\n",
       "fullgame                   999\n",
       "supported_languages          6\n",
       "header_image                 6\n",
       "website                      0\n",
       "pc_requirements              6\n",
       "mac_requirements             6\n",
       "linux_requirements           6\n",
       "legal_notice                 0\n",
       "drm_notice                   0\n",
       "ext_user_account_notice      0\n",
       "developers                   7\n",
       "publishers                   6\n",
       "demos                        0\n",
       "price_overview               0\n",
       "packages                     0\n",
       "package_groups               6\n",
       "platforms                    6\n",
       "metacritic                 414\n",
       "reviews                    627\n",
       "categories                   0\n",
       "genres                       0\n",
       "screenshots                  0\n",
       "movies                       0\n",
       "recommendations              0\n",
       "achievements               260\n",
       "release_date                 6\n",
       "support_info                 6\n",
       "background                   6\n",
       "content_descriptors          6\n",
       "dtype: int64"
      ]
     },
     "execution_count": 6,
     "metadata": {},
     "output_type": "execute_result"
    }
   ],
   "source": [
    "# Fill missing values for categorical columns with \"Unknown\"\n",
    "categorical_columns = ['type', 'controller_support', 'dlc', 'website', 'legal_notice', \n",
    "                       'drm_notice', 'ext_user_account_notice', 'demos', 'price_overview', \n",
    "                       'packages', 'categories', 'genres', 'screenshots', 'movies', 'recommendations']\n",
    "\n",
    "steam_app_data[categorical_columns] = steam_app_data[categorical_columns].fillna('Unknown')\n",
    "\n",
    "# Check the missing values again\n",
    "missing_values_steam_app = steam_app_data.isnull().sum()\n",
    "missing_values_steam_app\n"
   ]
  },
  {
   "cell_type": "code",
   "execution_count": 7,
   "id": "e38ea89a",
   "metadata": {
    "execution": {
     "iopub.execute_input": "2023-07-29T21:57:38.312895Z",
     "iopub.status.busy": "2023-07-29T21:57:38.312393Z",
     "iopub.status.idle": "2023-07-29T21:57:38.344698Z",
     "shell.execute_reply": "2023-07-29T21:57:38.343271Z"
    },
    "papermill": {
     "duration": 0.04564,
     "end_time": "2023-07-29T21:57:38.347649",
     "exception": false,
     "start_time": "2023-07-29T21:57:38.302009",
     "status": "completed"
    },
    "tags": []
   },
   "outputs": [
    {
     "data": {
      "text/plain": [
       "type                         0\n",
       "name                         0\n",
       "steam_appid                  0\n",
       "required_age                 6\n",
       "is_free                      6\n",
       "controller_support           0\n",
       "dlc                          0\n",
       "detailed_description         6\n",
       "about_the_game               6\n",
       "short_description            6\n",
       "fullgame                   999\n",
       "supported_languages          6\n",
       "header_image                 6\n",
       "website                      0\n",
       "pc_requirements              6\n",
       "mac_requirements             6\n",
       "linux_requirements           6\n",
       "legal_notice                 0\n",
       "drm_notice                   0\n",
       "ext_user_account_notice      0\n",
       "developers                   7\n",
       "publishers                   6\n",
       "demos                        0\n",
       "price_overview               0\n",
       "packages                     0\n",
       "package_groups               6\n",
       "platforms                    6\n",
       "metacritic                   0\n",
       "reviews                      0\n",
       "categories                   0\n",
       "genres                       0\n",
       "screenshots                  0\n",
       "movies                       0\n",
       "recommendations              0\n",
       "achievements                 0\n",
       "release_date                 6\n",
       "support_info                 6\n",
       "background                   6\n",
       "content_descriptors          6\n",
       "dtype: int64"
      ]
     },
     "execution_count": 7,
     "metadata": {},
     "output_type": "execute_result"
    }
   ],
   "source": [
    "# Fill missing values for numerical columns with 0\n",
    "numerical_columns = ['metacritic', 'reviews', 'achievements']\n",
    "\n",
    "steam_app_data[numerical_columns] = steam_app_data[numerical_columns].fillna(0)\n",
    "\n",
    "# Check the missing values again\n",
    "missing_values_steam_app = steam_app_data.isnull().sum()\n",
    "missing_values_steam_app\n"
   ]
  },
  {
   "cell_type": "code",
   "execution_count": 8,
   "id": "2fa5c4e7",
   "metadata": {
    "execution": {
     "iopub.execute_input": "2023-07-29T21:57:38.369909Z",
     "iopub.status.busy": "2023-07-29T21:57:38.368911Z",
     "iopub.status.idle": "2023-07-29T21:57:38.439942Z",
     "shell.execute_reply": "2023-07-29T21:57:38.438898Z"
    },
    "papermill": {
     "duration": 0.086149,
     "end_time": "2023-07-29T21:57:38.442874",
     "exception": false,
     "start_time": "2023-07-29T21:57:38.356725",
     "status": "completed"
    },
    "tags": []
   },
   "outputs": [
    {
     "data": {
      "text/html": [
       "<div>\n",
       "<style scoped>\n",
       "    .dataframe tbody tr th:only-of-type {\n",
       "        vertical-align: middle;\n",
       "    }\n",
       "\n",
       "    .dataframe tbody tr th {\n",
       "        vertical-align: top;\n",
       "    }\n",
       "\n",
       "    .dataframe thead th {\n",
       "        text-align: right;\n",
       "    }\n",
       "</style>\n",
       "<table border=\"1\" class=\"dataframe\">\n",
       "  <thead>\n",
       "    <tr style=\"text-align: right;\">\n",
       "      <th></th>\n",
       "      <th>appid</th>\n",
       "      <th>score_rank</th>\n",
       "      <th>positive</th>\n",
       "      <th>negative</th>\n",
       "      <th>userscore</th>\n",
       "      <th>average_forever</th>\n",
       "      <th>average_2weeks</th>\n",
       "      <th>median_forever</th>\n",
       "      <th>median_2weeks</th>\n",
       "      <th>price</th>\n",
       "      <th>initialprice</th>\n",
       "      <th>discount</th>\n",
       "      <th>ccu</th>\n",
       "    </tr>\n",
       "  </thead>\n",
       "  <tbody>\n",
       "    <tr>\n",
       "      <th>count</th>\n",
       "      <td>1.000000e+03</td>\n",
       "      <td>0.0</td>\n",
       "      <td>1.000000e+03</td>\n",
       "      <td>1000.000000</td>\n",
       "      <td>1000.0</td>\n",
       "      <td>1000.0</td>\n",
       "      <td>1000.0</td>\n",
       "      <td>1000.0</td>\n",
       "      <td>1000.0</td>\n",
       "      <td>1000.000000</td>\n",
       "      <td>1000.000000</td>\n",
       "      <td>1000.0000</td>\n",
       "      <td>1.000000e+03</td>\n",
       "    </tr>\n",
       "    <tr>\n",
       "      <th>mean</th>\n",
       "      <td>4.756415e+05</td>\n",
       "      <td>NaN</td>\n",
       "      <td>7.109154e+04</td>\n",
       "      <td>10722.915000</td>\n",
       "      <td>0.0</td>\n",
       "      <td>0.0</td>\n",
       "      <td>0.0</td>\n",
       "      <td>0.0</td>\n",
       "      <td>0.0</td>\n",
       "      <td>1487.210000</td>\n",
       "      <td>1781.661000</td>\n",
       "      <td>10.2550</td>\n",
       "      <td>6.262127e+03</td>\n",
       "    </tr>\n",
       "    <tr>\n",
       "      <th>std</th>\n",
       "      <td>4.304935e+05</td>\n",
       "      <td>NaN</td>\n",
       "      <td>2.453947e+05</td>\n",
       "      <td>44979.287885</td>\n",
       "      <td>0.0</td>\n",
       "      <td>0.0</td>\n",
       "      <td>0.0</td>\n",
       "      <td>0.0</td>\n",
       "      <td>0.0</td>\n",
       "      <td>1554.987365</td>\n",
       "      <td>1694.741439</td>\n",
       "      <td>25.5569</td>\n",
       "      <td>4.211502e+04</td>\n",
       "    </tr>\n",
       "    <tr>\n",
       "      <th>min</th>\n",
       "      <td>1.000000e+01</td>\n",
       "      <td>NaN</td>\n",
       "      <td>0.000000e+00</td>\n",
       "      <td>0.000000</td>\n",
       "      <td>0.0</td>\n",
       "      <td>0.0</td>\n",
       "      <td>0.0</td>\n",
       "      <td>0.0</td>\n",
       "      <td>0.0</td>\n",
       "      <td>0.000000</td>\n",
       "      <td>0.000000</td>\n",
       "      <td>0.0000</td>\n",
       "      <td>0.000000e+00</td>\n",
       "    </tr>\n",
       "    <tr>\n",
       "      <th>25%</th>\n",
       "      <td>2.121375e+05</td>\n",
       "      <td>NaN</td>\n",
       "      <td>1.145750e+04</td>\n",
       "      <td>1663.500000</td>\n",
       "      <td>0.0</td>\n",
       "      <td>0.0</td>\n",
       "      <td>0.0</td>\n",
       "      <td>0.0</td>\n",
       "      <td>0.0</td>\n",
       "      <td>0.000000</td>\n",
       "      <td>0.000000</td>\n",
       "      <td>0.0000</td>\n",
       "      <td>8.675000e+01</td>\n",
       "    </tr>\n",
       "    <tr>\n",
       "      <th>50%</th>\n",
       "      <td>3.325100e+05</td>\n",
       "      <td>NaN</td>\n",
       "      <td>2.600050e+04</td>\n",
       "      <td>3347.000000</td>\n",
       "      <td>0.0</td>\n",
       "      <td>0.0</td>\n",
       "      <td>0.0</td>\n",
       "      <td>0.0</td>\n",
       "      <td>0.0</td>\n",
       "      <td>999.000000</td>\n",
       "      <td>1499.000000</td>\n",
       "      <td>0.0000</td>\n",
       "      <td>4.590000e+02</td>\n",
       "    </tr>\n",
       "    <tr>\n",
       "      <th>75%</th>\n",
       "      <td>6.446525e+05</td>\n",
       "      <td>NaN</td>\n",
       "      <td>6.161475e+04</td>\n",
       "      <td>7280.500000</td>\n",
       "      <td>0.0</td>\n",
       "      <td>0.0</td>\n",
       "      <td>0.0</td>\n",
       "      <td>0.0</td>\n",
       "      <td>0.0</td>\n",
       "      <td>1999.000000</td>\n",
       "      <td>2999.000000</td>\n",
       "      <td>0.0000</td>\n",
       "      <td>2.033500e+03</td>\n",
       "    </tr>\n",
       "    <tr>\n",
       "      <th>max</th>\n",
       "      <td>2.050650e+06</td>\n",
       "      <td>NaN</td>\n",
       "      <td>6.547618e+06</td>\n",
       "      <td>939005.000000</td>\n",
       "      <td>0.0</td>\n",
       "      <td>0.0</td>\n",
       "      <td>0.0</td>\n",
       "      <td>0.0</td>\n",
       "      <td>0.0</td>\n",
       "      <td>6999.000000</td>\n",
       "      <td>8499.000000</td>\n",
       "      <td>90.0000</td>\n",
       "      <td>1.088407e+06</td>\n",
       "    </tr>\n",
       "  </tbody>\n",
       "</table>\n",
       "</div>"
      ],
      "text/plain": [
       "              appid  score_rank      positive       negative  userscore  \\\n",
       "count  1.000000e+03         0.0  1.000000e+03    1000.000000     1000.0   \n",
       "mean   4.756415e+05         NaN  7.109154e+04   10722.915000        0.0   \n",
       "std    4.304935e+05         NaN  2.453947e+05   44979.287885        0.0   \n",
       "min    1.000000e+01         NaN  0.000000e+00       0.000000        0.0   \n",
       "25%    2.121375e+05         NaN  1.145750e+04    1663.500000        0.0   \n",
       "50%    3.325100e+05         NaN  2.600050e+04    3347.000000        0.0   \n",
       "75%    6.446525e+05         NaN  6.161475e+04    7280.500000        0.0   \n",
       "max    2.050650e+06         NaN  6.547618e+06  939005.000000        0.0   \n",
       "\n",
       "       average_forever  average_2weeks  median_forever  median_2weeks  \\\n",
       "count           1000.0          1000.0          1000.0         1000.0   \n",
       "mean               0.0             0.0             0.0            0.0   \n",
       "std                0.0             0.0             0.0            0.0   \n",
       "min                0.0             0.0             0.0            0.0   \n",
       "25%                0.0             0.0             0.0            0.0   \n",
       "50%                0.0             0.0             0.0            0.0   \n",
       "75%                0.0             0.0             0.0            0.0   \n",
       "max                0.0             0.0             0.0            0.0   \n",
       "\n",
       "             price  initialprice   discount           ccu  \n",
       "count  1000.000000   1000.000000  1000.0000  1.000000e+03  \n",
       "mean   1487.210000   1781.661000    10.2550  6.262127e+03  \n",
       "std    1554.987365   1694.741439    25.5569  4.211502e+04  \n",
       "min       0.000000      0.000000     0.0000  0.000000e+00  \n",
       "25%       0.000000      0.000000     0.0000  8.675000e+01  \n",
       "50%     999.000000   1499.000000     0.0000  4.590000e+02  \n",
       "75%    1999.000000   2999.000000     0.0000  2.033500e+03  \n",
       "max    6999.000000   8499.000000    90.0000  1.088407e+06  "
      ]
     },
     "execution_count": 8,
     "metadata": {},
     "output_type": "execute_result"
    }
   ],
   "source": [
    "# Descriptive statistics for steamspy_data\n",
    "steamspy_data.describe(include=[np.number])\n"
   ]
  },
  {
   "cell_type": "code",
   "execution_count": 9,
   "id": "7b96e635",
   "metadata": {
    "execution": {
     "iopub.execute_input": "2023-07-29T21:57:38.464489Z",
     "iopub.status.busy": "2023-07-29T21:57:38.463486Z",
     "iopub.status.idle": "2023-07-29T21:57:38.488989Z",
     "shell.execute_reply": "2023-07-29T21:57:38.487541Z"
    },
    "papermill": {
     "duration": 0.039518,
     "end_time": "2023-07-29T21:57:38.492014",
     "exception": false,
     "start_time": "2023-07-29T21:57:38.452496",
     "status": "completed"
    },
    "tags": []
   },
   "outputs": [
    {
     "data": {
      "text/html": [
       "<div>\n",
       "<style scoped>\n",
       "    .dataframe tbody tr th:only-of-type {\n",
       "        vertical-align: middle;\n",
       "    }\n",
       "\n",
       "    .dataframe tbody tr th {\n",
       "        vertical-align: top;\n",
       "    }\n",
       "\n",
       "    .dataframe thead th {\n",
       "        text-align: right;\n",
       "    }\n",
       "</style>\n",
       "<table border=\"1\" class=\"dataframe\">\n",
       "  <thead>\n",
       "    <tr style=\"text-align: right;\">\n",
       "      <th></th>\n",
       "      <th>steam_appid</th>\n",
       "      <th>required_age</th>\n",
       "    </tr>\n",
       "  </thead>\n",
       "  <tbody>\n",
       "    <tr>\n",
       "      <th>count</th>\n",
       "      <td>9.990000e+02</td>\n",
       "      <td>993.000000</td>\n",
       "    </tr>\n",
       "    <tr>\n",
       "      <th>mean</th>\n",
       "      <td>4.740564e+05</td>\n",
       "      <td>2.377644</td>\n",
       "    </tr>\n",
       "    <tr>\n",
       "      <th>std</th>\n",
       "      <td>4.307718e+05</td>\n",
       "      <td>5.671926</td>\n",
       "    </tr>\n",
       "    <tr>\n",
       "      <th>min</th>\n",
       "      <td>1.000000e+01</td>\n",
       "      <td>0.000000</td>\n",
       "    </tr>\n",
       "    <tr>\n",
       "      <th>25%</th>\n",
       "      <td>2.119450e+05</td>\n",
       "      <td>0.000000</td>\n",
       "    </tr>\n",
       "    <tr>\n",
       "      <th>50%</th>\n",
       "      <td>3.314700e+05</td>\n",
       "      <td>0.000000</td>\n",
       "    </tr>\n",
       "    <tr>\n",
       "      <th>75%</th>\n",
       "      <td>6.414050e+05</td>\n",
       "      <td>0.000000</td>\n",
       "    </tr>\n",
       "    <tr>\n",
       "      <th>max</th>\n",
       "      <td>2.050650e+06</td>\n",
       "      <td>18.000000</td>\n",
       "    </tr>\n",
       "  </tbody>\n",
       "</table>\n",
       "</div>"
      ],
      "text/plain": [
       "        steam_appid  required_age\n",
       "count  9.990000e+02    993.000000\n",
       "mean   4.740564e+05      2.377644\n",
       "std    4.307718e+05      5.671926\n",
       "min    1.000000e+01      0.000000\n",
       "25%    2.119450e+05      0.000000\n",
       "50%    3.314700e+05      0.000000\n",
       "75%    6.414050e+05      0.000000\n",
       "max    2.050650e+06     18.000000"
      ]
     },
     "execution_count": 9,
     "metadata": {},
     "output_type": "execute_result"
    }
   ],
   "source": [
    "# Since many columns in steam_app_data are not actually numerical but contain complex information, we will describe only a few.\n",
    "steam_app_data[['steam_appid', 'required_age']].describe()\n"
   ]
  },
  {
   "cell_type": "code",
   "execution_count": 10,
   "id": "219d95ed",
   "metadata": {
    "execution": {
     "iopub.execute_input": "2023-07-29T21:57:38.514349Z",
     "iopub.status.busy": "2023-07-29T21:57:38.513114Z",
     "iopub.status.idle": "2023-07-29T21:57:42.410551Z",
     "shell.execute_reply": "2023-07-29T21:57:42.409421Z"
    },
    "papermill": {
     "duration": 3.91146,
     "end_time": "2023-07-29T21:57:42.413249",
     "exception": false,
     "start_time": "2023-07-29T21:57:38.501789",
     "status": "completed"
    },
    "tags": []
   },
   "outputs": [
    {
     "data": {
      "image/png": "[encoded data removed]",
      "text/plain": [
       "<Figure size 1400x2000 with 14 Axes>"
      ]
     },
     "metadata": {},
     "output_type": "display_data"
    }
   ],
   "source": [
    "import matplotlib.pyplot as plt\n",
    "\n",
    "# List of columns for which we'll plot histograms\n",
    "columns = ['positive', 'negative', 'price', 'initialprice', 'discount', 'ccu', 'required_age']\n",
    "\n",
    "# Plot histograms for the selected columns\n",
    "fig, axs = plt.subplots(len(columns), 2, figsize=(14, 20))\n",
    "\n",
    "for i, column in enumerate(columns):\n",
    "    if column in steamspy_data.columns:\n",
    "        axs[i, 0].hist(steamspy_data[column], bins=30, color='skyblue', edgecolor='black')\n",
    "        axs[i, 0].set_title(f'SteamSpy: {column}')\n",
    "    \n",
    "    if column in steam_app_data.columns:\n",
    "        axs[i, 1].hist(steam_app_data[column], bins=30, color='skyblue', edgecolor='black')\n",
    "        axs[i, 1].set_title(f'SteamApp: {column}')\n",
    "\n",
    "plt.tight_layout()\n",
    "plt.show()\n"
   ]
  },
  {
   "cell_type": "code",
   "execution_count": 11,
   "id": "3b5dcb9d",
   "metadata": {
    "execution": {
     "iopub.execute_input": "2023-07-29T21:57:42.440599Z",
     "iopub.status.busy": "2023-07-29T21:57:42.440203Z",
     "iopub.status.idle": "2023-07-29T21:57:44.482136Z",
     "shell.execute_reply": "2023-07-29T21:57:44.480653Z"
    },
    "papermill": {
     "duration": 2.059305,
     "end_time": "2023-07-29T21:57:44.484962",
     "exception": false,
     "start_time": "2023-07-29T21:57:42.425657",
     "status": "completed"
    },
    "tags": []
   },
   "outputs": [
    {
     "name": "stderr",
     "output_type": "stream",
     "text": [
      "/opt/conda/lib/python3.10/site-packages/scipy/__init__.py:146: UserWarning: A NumPy version >=1.16.5 and <1.23.0 is required for this version of SciPy (detected version 1.23.5\n",
      "  warnings.warn(f\"A NumPy version >={np_minversion} and <{np_maxversion}\"\n"
     ]
    },
    {
     "data": {
      "image/png": "[encoded data removed]",
      "text/plain": [
       "<Figure size 1100x900 with 2 Axes>"
      ]
     },
     "metadata": {},
     "output_type": "display_data"
    }
   ],
   "source": [
    "import seaborn as sns\n",
    "\n",
    "# Selecting the columns for the correlation analysis\n",
    "correlation_columns = ['positive', 'negative', 'price', 'initialprice', 'discount', 'ccu']\n",
    "\n",
    "# Compute the correlation matrix\n",
    "corr = steamspy_data[correlation_columns].corr()\n",
    "\n",
    "# Generate a mask for the upper triangle\n",
    "mask = np.triu(np.ones_like(corr, dtype=bool))\n",
    "\n",
    "# Set up the matplotlib figure\n",
    "f, ax = plt.subplots(figsize=(11, 9))\n",
    "\n",
    "# Generate a custom diverging colormap\n",
    "cmap = sns.diverging_palette(230, 20, as_cmap=True)\n",
    "\n",
    "# Draw the heatmap with the mask and correct aspect ratio\n",
    "sns.heatmap(corr, mask=mask, cmap=cmap, vmax=.3, center=0, annot=True,\n",
    "            square=True, linewidths=.5, cbar_kws={\"shrink\": .5})\n",
    "\n",
    "plt.title('Correlation Matrix of Numerical Variables')\n",
    "plt.show()\n"
   ]
  },
  {
   "cell_type": "code",
   "execution_count": 12,
   "id": "c0ac0423",
   "metadata": {
    "execution": {
     "iopub.execute_input": "2023-07-29T21:57:44.512654Z",
     "iopub.status.busy": "2023-07-29T21:57:44.512269Z",
     "iopub.status.idle": "2023-07-29T21:57:44.533461Z",
     "shell.execute_reply": "2023-07-29T21:57:44.532338Z"
    },
    "papermill": {
     "duration": 0.03836,
     "end_time": "2023-07-29T21:57:44.536397",
     "exception": false,
     "start_time": "2023-07-29T21:57:44.498037",
     "status": "completed"
    },
    "tags": []
   },
   "outputs": [
    {
     "data": {
      "text/html": [
       "<div>\n",
       "<style scoped>\n",
       "    .dataframe tbody tr th:only-of-type {\n",
       "        vertical-align: middle;\n",
       "    }\n",
       "\n",
       "    .dataframe tbody tr th {\n",
       "        vertical-align: top;\n",
       "    }\n",
       "\n",
       "    .dataframe thead th {\n",
       "        text-align: right;\n",
       "    }\n",
       "</style>\n",
       "<table border=\"1\" class=\"dataframe\">\n",
       "  <thead>\n",
       "    <tr style=\"text-align: right;\">\n",
       "      <th></th>\n",
       "      <th>name</th>\n",
       "      <th>positive</th>\n",
       "    </tr>\n",
       "  </thead>\n",
       "  <tbody>\n",
       "    <tr>\n",
       "      <th>25</th>\n",
       "      <td>Counter-Strike: Global Offensive</td>\n",
       "      <td>6547618</td>\n",
       "    </tr>\n",
       "    <tr>\n",
       "      <th>22</th>\n",
       "      <td>Dota 2</td>\n",
       "      <td>1659573</td>\n",
       "    </tr>\n",
       "    <tr>\n",
       "      <th>401</th>\n",
       "      <td>Grand Theft Auto V</td>\n",
       "      <td>1360117</td>\n",
       "    </tr>\n",
       "    <tr>\n",
       "      <th>706</th>\n",
       "      <td>PUBG: BATTLEGROUNDS</td>\n",
       "      <td>1260926</td>\n",
       "    </tr>\n",
       "    <tr>\n",
       "      <th>189</th>\n",
       "      <td>Terraria</td>\n",
       "      <td>1137066</td>\n",
       "    </tr>\n",
       "    <tr>\n",
       "      <th>525</th>\n",
       "      <td>Tom Clancy's Rainbow Six Siege</td>\n",
       "      <td>998163</td>\n",
       "    </tr>\n",
       "    <tr>\n",
       "      <th>37</th>\n",
       "      <td>Garry's Mod</td>\n",
       "      <td>949375</td>\n",
       "    </tr>\n",
       "    <tr>\n",
       "      <th>19</th>\n",
       "      <td>Team Fortress 2</td>\n",
       "      <td>909911</td>\n",
       "    </tr>\n",
       "    <tr>\n",
       "      <th>367</th>\n",
       "      <td>Rust</td>\n",
       "      <td>824082</td>\n",
       "    </tr>\n",
       "    <tr>\n",
       "      <th>21</th>\n",
       "      <td>Left 4 Dead 2</td>\n",
       "      <td>742846</td>\n",
       "    </tr>\n",
       "  </tbody>\n",
       "</table>\n",
       "</div>"
      ],
      "text/plain": [
       "                                 name  positive\n",
       "25   Counter-Strike: Global Offensive   6547618\n",
       "22                             Dota 2   1659573\n",
       "401                Grand Theft Auto V   1360117\n",
       "706               PUBG: BATTLEGROUNDS   1260926\n",
       "189                          Terraria   1137066\n",
       "525    Tom Clancy's Rainbow Six Siege    998163\n",
       "37                        Garry's Mod    949375\n",
       "19                    Team Fortress 2    909911\n",
       "367                              Rust    824082\n",
       "21                      Left 4 Dead 2    742846"
      ]
     },
     "execution_count": 12,
     "metadata": {},
     "output_type": "execute_result"
    }
   ],
   "source": [
    "# Top 10 games with most positive reviews\n",
    "top_10_positive_reviews = steamspy_data.nlargest(10, 'positive')\n",
    "\n",
    "top_10_positive_reviews[['name', 'positive']]\n"
   ]
  },
  {
   "cell_type": "code",
   "execution_count": 13,
   "id": "b93f7110",
   "metadata": {
    "execution": {
     "iopub.execute_input": "2023-07-29T21:57:44.565813Z",
     "iopub.status.busy": "2023-07-29T21:57:44.565380Z",
     "iopub.status.idle": "2023-07-29T21:57:44.582697Z",
     "shell.execute_reply": "2023-07-29T21:57:44.581421Z"
    },
    "papermill": {
     "duration": 0.034971,
     "end_time": "2023-07-29T21:57:44.585409",
     "exception": false,
     "start_time": "2023-07-29T21:57:44.550438",
     "status": "completed"
    },
    "tags": []
   },
   "outputs": [
    {
     "data": {
      "text/html": [
       "<div>\n",
       "<style scoped>\n",
       "    .dataframe tbody tr th:only-of-type {\n",
       "        vertical-align: middle;\n",
       "    }\n",
       "\n",
       "    .dataframe tbody tr th {\n",
       "        vertical-align: top;\n",
       "    }\n",
       "\n",
       "    .dataframe thead th {\n",
       "        text-align: right;\n",
       "    }\n",
       "</style>\n",
       "<table border=\"1\" class=\"dataframe\">\n",
       "  <thead>\n",
       "    <tr style=\"text-align: right;\">\n",
       "      <th></th>\n",
       "      <th>name</th>\n",
       "      <th>ccu</th>\n",
       "    </tr>\n",
       "  </thead>\n",
       "  <tbody>\n",
       "    <tr>\n",
       "      <th>25</th>\n",
       "      <td>Counter-Strike: Global Offensive</td>\n",
       "      <td>1088407</td>\n",
       "    </tr>\n",
       "    <tr>\n",
       "      <th>22</th>\n",
       "      <td>Dota 2</td>\n",
       "      <td>524317</td>\n",
       "    </tr>\n",
       "    <tr>\n",
       "      <th>706</th>\n",
       "      <td>PUBG: BATTLEGROUNDS</td>\n",
       "      <td>292875</td>\n",
       "    </tr>\n",
       "    <tr>\n",
       "      <th>897</th>\n",
       "      <td>Apex Legends</td>\n",
       "      <td>275974</td>\n",
       "    </tr>\n",
       "    <tr>\n",
       "      <th>905</th>\n",
       "      <td>NARAKA: BLADEPOINT</td>\n",
       "      <td>192346</td>\n",
       "    </tr>\n",
       "    <tr>\n",
       "      <th>401</th>\n",
       "      <td>Grand Theft Auto V</td>\n",
       "      <td>159766</td>\n",
       "    </tr>\n",
       "    <tr>\n",
       "      <th>367</th>\n",
       "      <td>Rust</td>\n",
       "      <td>124008</td>\n",
       "    </tr>\n",
       "    <tr>\n",
       "      <th>19</th>\n",
       "      <td>Team Fortress 2</td>\n",
       "      <td>120722</td>\n",
       "    </tr>\n",
       "    <tr>\n",
       "      <th>604</th>\n",
       "      <td>Wallpaper Engine</td>\n",
       "      <td>107140</td>\n",
       "    </tr>\n",
       "    <tr>\n",
       "      <th>994</th>\n",
       "      <td>Call of Duty: Modern Warfare II</td>\n",
       "      <td>70574</td>\n",
       "    </tr>\n",
       "  </tbody>\n",
       "</table>\n",
       "</div>"
      ],
      "text/plain": [
       "                                 name      ccu\n",
       "25   Counter-Strike: Global Offensive  1088407\n",
       "22                             Dota 2   524317\n",
       "706               PUBG: BATTLEGROUNDS   292875\n",
       "897                      Apex Legends   275974\n",
       "905                NARAKA: BLADEPOINT   192346\n",
       "401                Grand Theft Auto V   159766\n",
       "367                              Rust   124008\n",
       "19                    Team Fortress 2   120722\n",
       "604                  Wallpaper Engine   107140\n",
       "994   Call of Duty: Modern Warfare II    70574"
      ]
     },
     "execution_count": 13,
     "metadata": {},
     "output_type": "execute_result"
    }
   ],
   "source": [
    "# Top 10 games with most concurrent users\n",
    "top_10_ccu = steamspy_data.nlargest(10, 'ccu')\n",
    "\n",
    "top_10_ccu[['name', 'ccu']]\n"
   ]
  },
  {
   "cell_type": "code",
   "execution_count": 14,
   "id": "9142faea",
   "metadata": {
    "execution": {
     "iopub.execute_input": "2023-07-29T21:57:44.612832Z",
     "iopub.status.busy": "2023-07-29T21:57:44.612441Z",
     "iopub.status.idle": "2023-07-29T21:57:44.626365Z",
     "shell.execute_reply": "2023-07-29T21:57:44.625096Z"
    },
    "papermill": {
     "duration": 0.03105,
     "end_time": "2023-07-29T21:57:44.629050",
     "exception": false,
     "start_time": "2023-07-29T21:57:44.598000",
     "status": "completed"
    },
    "tags": []
   },
   "outputs": [
    {
     "data": {
      "text/plain": [
       "Action                           148\n",
       "Action, Adventure                 98\n",
       "Strategy                          41\n",
       "Action, RPG                       36\n",
       "Action, Adventure, Indie          34\n",
       "Action, Indie                     28\n",
       "Action, Free to Play              26\n",
       "RPG                               24\n",
       "Action, Adventure, RPG            21\n",
       "Action, Adventure, Indie, RPG     20\n",
       "Name: genre, dtype: int64"
      ]
     },
     "execution_count": 14,
     "metadata": {},
     "output_type": "execute_result"
    }
   ],
   "source": [
    "# Let's take a look at the 'genre' column\n",
    "steamspy_data['genre'].value_counts().head(10)\n"
   ]
  },
  {
   "cell_type": "code",
   "execution_count": 15,
   "id": "d988a343",
   "metadata": {
    "execution": {
     "iopub.execute_input": "2023-07-29T21:57:44.658760Z",
     "iopub.status.busy": "2023-07-29T21:57:44.657957Z",
     "iopub.status.idle": "2023-07-29T21:57:44.673654Z",
     "shell.execute_reply": "2023-07-29T21:57:44.672505Z"
    },
    "papermill": {
     "duration": 0.033785,
     "end_time": "2023-07-29T21:57:44.675932",
     "exception": false,
     "start_time": "2023-07-29T21:57:44.642147",
     "status": "completed"
    },
    "tags": []
   },
   "outputs": [
    {
     "data": {
      "text/plain": [
       "Action                   666\n",
       "Adventure                369\n",
       "Indie                    362\n",
       "RPG                      247\n",
       "Strategy                 202\n",
       "Free to Play             198\n",
       "Simulation               188\n",
       "Massively Multiplayer    124\n",
       "Casual                   111\n",
       "Sports                    44\n",
       "Name: genre, dtype: int64"
      ]
     },
     "execution_count": 15,
     "metadata": {},
     "output_type": "execute_result"
    }
   ],
   "source": [
    "# Split the 'genre' column and count individual genres\n",
    "genres = steamspy_data['genre'].str.split(',').explode().str.strip()\n",
    "genre_counts = genres.value_counts()\n",
    "\n",
    "# Display the top 10 genres\n",
    "genre_counts.head(10)\n"
   ]
  },
  {
   "cell_type": "code",
   "execution_count": 16,
   "id": "1e7078e4",
   "metadata": {
    "execution": {
     "iopub.execute_input": "2023-07-29T21:57:44.704148Z",
     "iopub.status.busy": "2023-07-29T21:57:44.703670Z",
     "iopub.status.idle": "2023-07-29T21:57:45.318418Z",
     "shell.execute_reply": "2023-07-29T21:57:45.316984Z"
    },
    "papermill": {
     "duration": 0.63261,
     "end_time": "2023-07-29T21:57:45.321412",
     "exception": false,
     "start_time": "2023-07-29T21:57:44.688802",
     "status": "completed"
    },
    "tags": []
   },
   "outputs": [
    {
     "data": {
      "image/png": "[encoded data removed]",
      "text/plain": [
       "<Figure size 1000x600 with 1 Axes>"
      ]
     },
     "metadata": {},
     "output_type": "display_data"
    }
   ],
   "source": [
    "# Plot the top 10 genres\n",
    "plt.figure(figsize=(10, 6))\n",
    "genre_counts.head(10).sort_values().plot(kind='barh', color='skyblue', edgecolor='black')\n",
    "plt.xlabel('Number of Games')\n",
    "plt.title('Top 10 Game Genres')\n",
    "plt.show()\n"
   ]
  },
  {
   "cell_type": "code",
   "execution_count": null,
   "id": "67df5187",
   "metadata": {
    "papermill": {
     "duration": 0.013404,
     "end_time": "2023-07-29T21:57:45.348676",
     "exception": false,
     "start_time": "2023-07-29T21:57:45.335272",
     "status": "completed"
    },
    "tags": []
   },
   "outputs": [],
   "source": []
  },
  {
   "cell_type": "code",
   "execution_count": null,
   "id": "7563236b",
   "metadata": {
    "papermill": {
     "duration": 0.013626,
     "end_time": "2023-07-29T21:57:45.376775",
     "exception": false,
     "start_time": "2023-07-29T21:57:45.363149",
     "status": "completed"
    },
    "tags": []
   },
   "outputs": [],
   "source": []
  },
  {
   "cell_type": "code",
   "execution_count": null,
   "id": "ba117273",
   "metadata": {
    "papermill": {
     "duration": 0.013463,
     "end_time": "2023-07-29T21:57:45.403939",
     "exception": false,
     "start_time": "2023-07-29T21:57:45.390476",
     "status": "completed"
    },
    "tags": []
   },
   "outputs": [],
   "source": []
  },
  {
   "cell_type": "code",
   "execution_count": null,
   "id": "60281463",
   "metadata": {
    "papermill": {
     "duration": 0.013298,
     "end_time": "2023-07-29T21:57:45.430747",
     "exception": false,
     "start_time": "2023-07-29T21:57:45.417449",
     "status": "completed"
    },
    "tags": []
   },
   "outputs": [],
   "source": []
  },
  {
   "cell_type": "code",
   "execution_count": null,
   "id": "77040154",
   "metadata": {
    "papermill": {
     "duration": 0.013631,
     "end_time": "2023-07-29T21:57:45.457914",
     "exception": false,
     "start_time": "2023-07-29T21:57:45.444283",
     "status": "completed"
    },
    "tags": []
   },
   "outputs": [],
   "source": []
  },
  {
   "cell_type": "code",
   "execution_count": null,
   "id": "dabc424e",
   "metadata": {
    "papermill": {
     "duration": 0.013073,
     "end_time": "2023-07-29T21:57:45.484655",
     "exception": false,
     "start_time": "2023-07-29T21:57:45.471582",
     "status": "completed"
    },
    "tags": []
   },
   "outputs": [],
   "source": []
  }
 ],
 "metadata": {
  "kernelspec": {
   "display_name": "Python 3",
   "language": "python",
   "name": "python3"
  },
  "language_info": {
   "codemirror_mode": {
    "name": "ipython",
    "version": 3
   },
   "file_extension": ".py",
   "mimetype": "text/x-python",
   "name": "python",
   "nbconvert_exporter": "python",
   "pygments_lexer": "ipython3",
   "version": "3.10.12"
  },
  "papermill": {
   "default_parameters": {},
   "duration": 23.029592,
   "end_time": "2023-07-29T21:57:46.625358",
   "environment_variables": {},
   "exception": null,
   "input_path": "__notebook__.ipynb",
   "output_path": "__notebook__.ipynb",
   "parameters": {},
   "start_time": "2023-07-29T21:57:23.595766",
   "version": "2.4.0"
  }
 },
 "nbformat": 4,
 "nbformat_minor": 5
}
